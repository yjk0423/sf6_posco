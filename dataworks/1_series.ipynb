{
 "cells": [
  {
   "cell_type": "markdown",
   "id": "e566029d-43c2-4166-9086-11cc9d220ed8",
   "metadata": {},
   "source": [
    "#### series 클래스 - 데이터(리스트, 튜플, 딕셔너리)가 순차적으로 나열된 1차원 리스트의 형태"
   ]
  },
  {
   "cell_type": "code",
   "execution_count": 8,
   "id": "79c83665-c90f-4afa-ad30-04a0caac1924",
   "metadata": {},
   "outputs": [
    {
     "name": "stdout",
     "output_type": "stream",
     "text": [
      "a    1\n",
      "b    2\n",
      "c    3\n",
      "dtype: int64\n",
      "Index(['a', 'b', 'c'], dtype='object')\n"
     ]
    }
   ],
   "source": [
    "import pandas as pd\n",
    "# 딕셔너리러 시리즈 만들기 (키가 인덱스가 됨)\n",
    "dict_data = {\n",
    "    \"a\" : 1,\n",
    "    \"b\" : 2,\n",
    "    \"c\" : 3\n",
    "}\n",
    "\n",
    "# Series(데이터, 인덱스(행의 이름표))\n",
    "sr = pd.Series(dict_data)\n",
    "print(sr)\n",
    "print(sr.index) # 인덱스 출력"
   ]
  },
  {
   "cell_type": "code",
   "execution_count": 11,
   "id": "c895f349-4cc1-425b-b0cd-02e1c5c7d5fe",
   "metadata": {},
   "outputs": [
    {
     "name": "stdout",
     "output_type": "stream",
     "text": [
      "0    2024-08-22\n",
      "1            10\n",
      "2         apple\n",
      "3          True\n",
      "dtype: object\n",
      "RangeIndex(start=0, stop=4, step=1)\n",
      "['2024-08-22' 10 'apple' True]\n"
     ]
    }
   ],
   "source": [
    "# 리스트로 시리즈 만들기\n",
    "import pandas as pd\n",
    "list_data = [\"2024-08-22\",10,'apple',True]\n",
    "\n",
    "sr = pd.Series(list_data)\n",
    "print(sr)\n",
    "print(sr.index) # 인덱스 출력\n",
    "print(sr.values) # 데이터 자료 출력"
   ]
  },
  {
   "cell_type": "code",
   "execution_count": 13,
   "id": "37f0bb6c-b8f3-4200-ba4c-8e61e8ff20b0",
   "metadata": {},
   "outputs": [
    {
     "name": "stdout",
     "output_type": "stream",
     "text": [
      "2018    143\n",
      "2019    150\n",
      "2020    157\n",
      "2021    160\n",
      "Name: Height, dtype: int64\n",
      "150\n",
      "150\n",
      "143\n"
     ]
    }
   ],
   "source": [
    "import pandas as pd\n",
    "height = [143,150,157,160]\n",
    "index=[\"2018\",\"2019\",\"2020\",\"2021\"]\n",
    "# growth = pd.Series(height, index=[\"2018\",\"2019\",\"2020\",\"2021\"]) # 인덱스를 지정해주는 과정\n",
    "growth = pd.Series(height, index=index, name='Height') # 인덱스를 지정해주는 과정\n",
    "print(growth)\n",
    "# print(growth[\"2019\"])\n",
    "# loc[행(문자)], iloc[숫자]\n",
    "print(growth.loc[\"2019\"])\n",
    "print(growth.iloc[0])\n",
    "\n"
   ]
  },
  {
   "cell_type": "code",
   "execution_count": 15,
   "id": "bcf0ecc4-c15a-44eb-b242-52f84c25cbcc",
   "metadata": {},
   "outputs": [
    {
     "name": "stdout",
     "output_type": "stream",
     "text": [
      "밀가루     4 cups\n",
      "우유       1 cup\n",
      "계란     2 large\n",
      "참치캔      1 can\n",
      "Name: Dinner, dtype: object\n"
     ]
    }
   ],
   "source": [
    "# 실습 1.\n",
    "import pandas as pd\n",
    "cook =[\"4 cups\",\"1 cup\",\"2 large\",\"1 can\"]\n",
    "index = [\"밀가루\",\"우유\",\"계란\",\"참치캔\"]\n",
    "\n",
    "make = pd.Series(cook, index=index, name='Dinner')\n",
    "print(make)\n"
   ]
  },
  {
   "cell_type": "code",
   "execution_count": null,
   "id": "bc53dc2e-eb23-4823-8ec8-920be82923e2",
   "metadata": {},
   "outputs": [],
   "source": []
  }
 ],
 "metadata": {
  "kernelspec": {
   "display_name": "Python 3 (ipykernel)",
   "language": "python",
   "name": "python3"
  },
  "language_info": {
   "codemirror_mode": {
    "name": "ipython",
    "version": 3
   },
   "file_extension": ".py",
   "mimetype": "text/x-python",
   "name": "python",
   "nbconvert_exporter": "python",
   "pygments_lexer": "ipython3",
   "version": "3.12.4"
  }
 },
 "nbformat": 4,
 "nbformat_minor": 5
}
