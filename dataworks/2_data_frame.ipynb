{
 "cells": [
  {
   "cell_type": "markdown",
   "id": "c19a51d0-59bc-4986-a7df-d609ba5bc929",
   "metadata": {},
   "source": [
    "### pandas - DataFrame 클래스 : 행(row) 열(column)으로 이루어진 2차원 리스트다."
   ]
  },
  {
   "cell_type": "code",
   "execution_count": 5,
   "id": "11228f26-7ba3-475c-8376-a6b33de5ca60",
   "metadata": {},
   "outputs": [
    {
     "data": {
      "text/html": [
       "<div>\n",
       "<style scoped>\n",
       "    .dataframe tbody tr th:only-of-type {\n",
       "        vertical-align: middle;\n",
       "    }\n",
       "\n",
       "    .dataframe tbody tr th {\n",
       "        vertical-align: top;\n",
       "    }\n",
       "\n",
       "    .dataframe thead th {\n",
       "        text-align: right;\n",
       "    }\n",
       "</style>\n",
       "<table border=\"1\" class=\"dataframe\">\n",
       "  <thead>\n",
       "    <tr style=\"text-align: right;\">\n",
       "      <th></th>\n",
       "      <th>영희</th>\n",
       "      <th>철수</th>\n",
       "    </tr>\n",
       "  </thead>\n",
       "  <tbody>\n",
       "    <tr>\n",
       "      <th>2018</th>\n",
       "      <td>143</td>\n",
       "      <td>165</td>\n",
       "    </tr>\n",
       "    <tr>\n",
       "      <th>2019</th>\n",
       "      <td>150</td>\n",
       "      <td>172</td>\n",
       "    </tr>\n",
       "    <tr>\n",
       "      <th>2020</th>\n",
       "      <td>157</td>\n",
       "      <td>175</td>\n",
       "    </tr>\n",
       "    <tr>\n",
       "      <th>2021</th>\n",
       "      <td>160</td>\n",
       "      <td>180</td>\n",
       "    </tr>\n",
       "  </tbody>\n",
       "</table>\n",
       "</div>"
      ],
      "text/plain": [
       "       영희   철수\n",
       "2018  143  165\n",
       "2019  150  172\n",
       "2020  157  175\n",
       "2021  160  180"
      ]
     },
     "execution_count": 5,
     "metadata": {},
     "output_type": "execute_result"
    }
   ],
   "source": [
    "# 1 시리즈 결합해서 데이터프레임 만들기\n",
    "import pandas as pd\n",
    "index = [\"2018\",\"2019\",\"2020\",\"2021\"]\n",
    "\n",
    "younghee = pd.Series([143,150,157,160], index = index)\n",
    "cheolsu = pd.Series([165,172,175,180], index = index)\n",
    "\n",
    "growth = pd.DataFrame({\n",
    "    '영희' : younghee,\n",
    "    '철수' : cheolsu\n",
    "})\n",
    "growth\n",
    "\n"
   ]
  },
  {
   "cell_type": "code",
   "execution_count": 35,
   "id": "b714a92d-259f-446f-aaa1-8edcb11ce97d",
   "metadata": {},
   "outputs": [
    {
     "name": "stdout",
     "output_type": "stream",
     "text": [
      "       영희   철수\n",
      "2018  143  165\n",
      "2019  150  172\n",
      "2020  157  175\n",
      "2021  160  180\n",
      "---------------------------------------------------------\n",
      "영희    157\n",
      "철수    175\n",
      "Name: 2020, dtype: int64\n",
      "---------------------------------------------------------\n",
      "       영희   철수\n",
      "2020  157  175\n",
      "2021  160  180\n"
     ]
    }
   ],
   "source": [
    "# 일반적인 데이터 프레임\n",
    "import pandas as pd\n",
    "index = [\"2018\",\"2019\",\"2020\",\"2021\"]\n",
    "data = {\n",
    "    '영희' : [143,150,157,160],\n",
    "    '철수' : [165,172,175,180]\n",
    "}\n",
    "\n",
    "growth = pd.DataFrame(data, index = index)\n",
    "growth\n",
    "\n",
    "# print(growth.columns)\n",
    "# print(growth.values)\n",
    "# print(\"---------------------------------------------------------\")\n",
    "# print(growth['영희'])\n",
    "# print(\"---------------------------------------------------------\")\n",
    "# print(growth[['철수']])\n",
    "# print(\"---------------------------------------------------------\")\n",
    "# print(growth['영희']['2019'])\n",
    "# print(\"---------------------------------------------------------\")\n",
    "# print(growth[['영희','철수']])\n",
    "print(growth)\n",
    "print(\"---------------------------------------------------------\")\n",
    "# print(growth.loc['2020'])\n",
    "print(growth.iloc[2])\n",
    "print(\"---------------------------------------------------------\")\n",
    "\n",
    "# 다중행 선택\n",
    "print(growth.loc[['2020', '2021']])\n"
   ]
  },
  {
   "cell_type": "code",
   "execution_count": 61,
   "id": "94252a84-4bc0-4836-aeda-f7c578e9ccaa",
   "metadata": {},
   "outputs": [
    {
     "name": "stdout",
     "output_type": "stream",
     "text": [
      "       영희   철수\n",
      "2018  143  165\n",
      "2019  150  172\n",
      "2020  157  175\n",
      "2021  160  180\n",
      "       영희   철수\n",
      "2018  143  165\n",
      "2019  150  172\n",
      "2021  160  180\n",
      "2022  162  181\n"
     ]
    }
   ],
   "source": [
    "# 일반적인 데이터 프레임\n",
    "import pandas as pd\n",
    "index = [\"2018\",\"2019\",\"2020\",\"2021\"]\n",
    "data = {\n",
    "    '영희' : [143,150,157,160],\n",
    "    '철수' : [165,172,175,180]\n",
    "}\n",
    "\n",
    "growth = pd.DataFrame(data, index = index)\n",
    "print(growth)\n",
    "\n",
    "# 특정요소 1개 선택\n",
    "# loc[행,열], iloc[행(숫자), 열(숫자)]\n",
    "# print(growth.loc['2020','철수'])\n",
    "# print(growth.iloc[2,1])\n",
    "\n",
    "# 행 추가 - 2022년\n",
    "growth.loc['2022'] = [162,181]\n",
    "\n",
    "# print(\"----------------------------\")\n",
    "# print(growth)\n",
    "\n",
    "growth2 = growth.copy()\n",
    "growth2 = growth.drop('2020')\n",
    "\n",
    "print(growth2)"
   ]
  },
  {
   "cell_type": "code",
   "execution_count": 44,
   "id": "aa650450-7e5d-4bb0-a23e-c3a6f761c720",
   "metadata": {},
   "outputs": [
    {
     "name": "stdout",
     "output_type": "stream",
     "text": [
      "    국어  수학   영어\n",
      "재천  90  80   85\n",
      "선영  80  75   95\n",
      "일성  70  95  100\n"
     ]
    }
   ],
   "source": [
    "import pandas as pd\n",
    "index = [\"재천\",\"선영\",\"일성\"]\n",
    "data = {\n",
    "    '국어' : [90,80,70],\n",
    "    '수학' : [80,75,95],\n",
    "    '영어' : [85,95,100]\n",
    "}\n",
    "\n",
    "growth = pd.DataFrame(data, index = index)\n",
    "print(growth)\n",
    "\n"
   ]
  },
  {
   "cell_type": "code",
   "execution_count": 68,
   "id": "bdf93717-5976-419d-a021-a2f088ff6f1f",
   "metadata": {},
   "outputs": [
    {
     "name": "stdout",
     "output_type": "stream",
     "text": [
      "       영희   철수\n",
      "2018  143  165\n",
      "2019  150  172\n",
      "2020  157  175\n",
      "2021  160  180\n"
     ]
    }
   ],
   "source": [
    "# csv 파일 만들기\n",
    "import pandas as pd\n",
    "index = [\"2018\",\"2019\",\"2020\",\"2021\"]\n",
    "data = {\n",
    "    '영희' : [143,150,157,160],\n",
    "    '철수' : [165,172,175,180]\n",
    "}\n",
    "\n",
    "growth = pd.DataFrame(data, index = index)\n",
    "# growth.to_csv('./datas/growth.csv') # csv 만들어서 보냄\n",
    "\n",
    "# csv 파일 읽기 - to_read_csv(경로)\n",
    "\n",
    "growth = pd.read_csv('./datas/growth.csv', index_col = 0)\n",
    "\n",
    "print(growth)\n"
   ]
  }
 ],
 "metadata": {
  "kernelspec": {
   "display_name": "Python 3 (ipykernel)",
   "language": "python",
   "name": "python3"
  },
  "language_info": {
   "codemirror_mode": {
    "name": "ipython",
    "version": 3
   },
   "file_extension": ".py",
   "mimetype": "text/x-python",
   "name": "python",
   "nbconvert_exporter": "python",
   "pygments_lexer": "ipython3",
   "version": "3.12.4"
  }
 },
 "nbformat": 4,
 "nbformat_minor": 5
}
